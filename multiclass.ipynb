{
 "cells": [
  {
   "cell_type": "markdown",
   "metadata": {},
   "source": [
    "# Imports"
   ]
  },
  {
   "cell_type": "code",
   "execution_count": 1,
   "metadata": {},
   "outputs": [],
   "source": [
    "import matplotlib.pyplot as plt\n",
    "import numpy as np\n",
    "import pandas as pd\n",
    "\n",
    "plt.rcParams['text.latex.preamble']= r\"\\usepackage{lmodern}\"\n",
    "params = {'text.usetex' : True,\n",
    "          'font.size' : 11,\n",
    "          'font.family' : 'lmodern'\n",
    "          }\n",
    "plt.rcParams.update(params)"
   ]
  },
  {
   "cell_type": "code",
   "execution_count": 2,
   "metadata": {},
   "outputs": [],
   "source": [
    "from measures import lts_measure\n",
    "from misc_func import generate_state_seq\n",
    "from postprocessing import find_projection"
   ]
  },
  {
   "cell_type": "code",
   "execution_count": 7,
   "metadata": {},
   "outputs": [],
   "source": [
    "fs = 1000 # sampling frequency\n",
    "l = 60 # length of the recording in seconds\n",
    "\n",
    "df = pd.DataFrame()\n",
    "df['time'] = np.linspace(0, l, fs * l)\n",
    "df['correct'] = 1\n",
    "df.loc[df.time >  5, 'correct'] = 2\n",
    "df.loc[df.time > 15, 'correct'] = 3\n",
    "df.loc[df.time > 30, 'correct'] = 2\n",
    "df.loc[df.time > 40, 'correct'] = 3\n",
    "df.loc[df.time > 55, 'correct'] = 1\n",
    "df['est'] = 0"
   ]
  },
  {
   "cell_type": "markdown",
   "metadata": {},
   "source": [
    "# Simulation study"
   ]
  },
  {
   "cell_type": "markdown",
   "metadata": {},
   "source": [
    "## Small $\\mu_2$"
   ]
  },
  {
   "cell_type": "code",
   "execution_count": 11,
   "metadata": {},
   "outputs": [],
   "source": [
    "# parameters of the LTS measure\n",
    "w = 0.6\n",
    "sigma = 0.35\n",
    "lam = 0.01\n",
    "zeta = 0.5\n",
    "\n",
    "gamma = 0.5 # parameter of post-processing\n",
    "\n",
    "# parameters of the generated state sequence\n",
    "mu_1 = 100\n",
    "mu_2_array = [10, 20, 30, 40, 50, 60, 70, 80, 90]\n",
    "\n",
    "big_table = []\n",
    "\n",
    "for mu_2 in mu_2_array:\n",
    "    accuracy_table = []\n",
    "    measure_table_est = []\n",
    "    measure_table_pp = []\n",
    "    for loop_idx in range(1000):\n",
    "        is_correct, wrong_states = generate_state_seq(mu_1, mu_2)\n",
    "\n",
    "        df['iscorrect'] = is_correct\n",
    "        df.loc[df.iscorrect, 'est'] = df.correct\n",
    "        df.loc[df.iscorrect == False, 'est'] = wrong_states\n",
    "        \n",
    "        df['postproc'] = find_projection(df.est, gamma, fs)\n",
    "\n",
    "        lts_est_current = lts_measure(df.correct, df.est, fs, w, sigma, lam, zeta)\n",
    "        lts_pp_current = lts_measure(df.correct, df.postproc, fs, w, sigma, lam, zeta)\n",
    "\n",
    "        accuracy_table.append(round(np.mean(is_correct), 2))\n",
    "        measure_table_est.append(round(lts_est_current, 3))\n",
    "        measure_table_pp.append(round(lts_pp_current, 3))\n",
    "    \n",
    "    big_table.append([mu_2, \n",
    "                      round(np.mean(accuracy_table), 3),\n",
    "                      round(np.mean(measure_table_est), 3),\n",
    "                      round(np.mean(measure_table_pp), 3)])"
   ]
  },
  {
   "cell_type": "code",
   "execution_count": 12,
   "metadata": {},
   "outputs": [
    {
     "data": {
      "image/png": "[encoded data removed]",
      "text/plain": [
       "<Figure size 432x288 with 1 Axes>"
      ]
     },
     "metadata": {
      "needs_background": "light"
     },
     "output_type": "display_data"
    }
   ],
   "source": [
    "bt_df = pd.DataFrame(big_table)\n",
    "bt_df.columns = ['mu', 'est_accuracy', 'est_lts', 'pp_lts']\n",
    "bt_df\n",
    "plt.plot(bt_df['mu'], bt_df['est_accuracy'], '--bo', label = 'est acc')\n",
    "plt.plot(bt_df['mu'], bt_df['est_lts'], ':ro', label = 'est lts')\n",
    "plt.plot(bt_df['mu'], bt_df['pp_lts'], '-go', label = 'pp lts')\n",
    "plt.legend()\n",
    "plt.xlabel('$\\mu_2$')\n",
    "plt.savefig('fig3.jpg', dpi = 600)\n",
    "plt.show()"
   ]
  },
  {
   "cell_type": "markdown",
   "metadata": {},
   "source": [
    "## Big $\\mu_2$"
   ]
  },
  {
   "cell_type": "code",
   "execution_count": 13,
   "metadata": {
    "scrolled": true
   },
   "outputs": [],
   "source": [
    "# parameters of the generated state sequence\n",
    "mu_1 = 1000\n",
    "mu_2_array = [100, 200, 300, 400, 500, 600, 700, 800, 900]\n",
    "\n",
    "big_table = []\n",
    "\n",
    "for mu_2 in mu_2_array:\n",
    "    accuracy_table = []\n",
    "    measure_table_est = []\n",
    "    measure_table_pp = []\n",
    "    for loop_idx in range(1000):\n",
    "        is_correct, wrong_states = generate_state_seq(mu_1, mu_2)\n",
    "\n",
    "        df['iscorrect'] = is_correct\n",
    "        df.loc[df.iscorrect, 'est'] = df.correct\n",
    "        df.loc[df.iscorrect == False, 'est'] = wrong_states\n",
    "        \n",
    "        df['postproc'] = find_projection(df.est, gamma, fs)\n",
    "\n",
    "        lts_est_current = lts_measure(df.correct, df.est, fs, w, sigma, lam, zeta)\n",
    "        lts_pp_current = lts_measure(df.correct, df.postproc, fs, w, sigma, lam, zeta)\n",
    "\n",
    "        accuracy_table.append(round(np.mean(is_correct), 2))\n",
    "        measure_table_est.append(round(lts_est_current, 3))\n",
    "        measure_table_pp.append(round(lts_pp_current, 3))\n",
    "    \n",
    "    big_table.append([mu_2,\n",
    "                      round(np.mean(accuracy_table), 3),\n",
    "                      round(np.mean(measure_table_est), 3),\n",
    "                      round(np.mean(measure_table_pp), 3)])"
   ]
  },
  {
   "cell_type": "code",
   "execution_count": 14,
   "metadata": {},
   "outputs": [
    {
     "data": {
      "image/png": "[encoded data removed]",
      "text/plain": [
       "<Figure size 432x288 with 1 Axes>"
      ]
     },
     "metadata": {
      "needs_background": "light"
     },
     "output_type": "display_data"
    }
   ],
   "source": [
    "bt_df = pd.DataFrame(big_table)\n",
    "bt_df.columns = ['mu', 'est_accuracy', 'est_lts', 'pp_lts']\n",
    "bt_df\n",
    "plt.plot(bt_df['mu'], bt_df['est_accuracy'], '--bo', label = 'est acc')\n",
    "plt.plot(bt_df['mu'], bt_df['est_lts'], ':ro', label = 'est lts')\n",
    "plt.plot(bt_df['mu'], bt_df['pp_lts'], '-go', label = 'pp lts')\n",
    "plt.legend()\n",
    "plt.xlabel('$\\mu_2$')\n",
    "plt.savefig('fig4.jpg', dpi = 600)\n",
    "plt.show()"
   ]
  },
  {
   "cell_type": "markdown",
   "metadata": {},
   "source": [
    "## $\\gamma$"
   ]
  },
  {
   "cell_type": "code",
   "execution_count": 15,
   "metadata": {},
   "outputs": [],
   "source": [
    "is_correct_array = []\n",
    "wrong_states_array = []\n",
    "mu_1 = 100\n",
    "mu_2 = 80\n",
    "\n",
    "for loop_idx in range(1000):\n",
    "    is_correct, wrong_states = generate_state_seq(mu_1, mu_2)\n",
    "    \n",
    "    is_correct_array.append(is_correct)\n",
    "    wrong_states_array.append(wrong_states)"
   ]
  },
  {
   "cell_type": "code",
   "execution_count": 16,
   "metadata": {},
   "outputs": [],
   "source": [
    "# parameter of the post-processing\n",
    "gammas = [0.05, 0.1, 0.25, 0.5, 0.75, 1, 2, 2.5, 5]\n",
    "\n",
    "big_table = []\n",
    "\n",
    "for gamma in gammas:\n",
    "    accuracy_table = []\n",
    "    measure_table_est = []\n",
    "    measure_table_pp = []\n",
    "    for loop_idx in range(1000):\n",
    "        is_correct = is_correct_array[loop_idx]\n",
    "        wrong_states = wrong_states_array[loop_idx]\n",
    "\n",
    "        df['iscorrect'] = is_correct\n",
    "        df.loc[df.iscorrect, 'est'] = df.correct\n",
    "        df.loc[df.iscorrect == False, 'est'] = wrong_states\n",
    "        \n",
    "        df['postproc'] = find_projection(df.est, gamma, fs)\n",
    "\n",
    "        lts_est_current = lts_measure(df.correct, df.est, fs, w, sigma, lam, zeta)\n",
    "        lts_pp_current = lts_measure(df.correct, df.postproc, fs, w, sigma, lam, zeta)\n",
    "\n",
    "        accuracy_table.append(round(np.mean(is_correct), 2))\n",
    "        measure_table_est.append(round(lts_est_current, 3))\n",
    "        measure_table_pp.append(round(lts_pp_current, 3))\n",
    "    \n",
    "    big_table.append([gamma, \n",
    "                      round(np.mean(accuracy_table), 3),\n",
    "                      round(np.mean(measure_table_est), 3),\n",
    "                      round(np.mean(measure_table_pp), 3)])"
   ]
  },
  {
   "cell_type": "code",
   "execution_count": 17,
   "metadata": {},
   "outputs": [
    {
     "data": {
      "image/png": "[encoded data removed]",
      "text/plain": [
       "<Figure size 432x288 with 1 Axes>"
      ]
     },
     "metadata": {
      "needs_background": "light"
     },
     "output_type": "display_data"
    },
    {
     "name": "stdout",
     "output_type": "stream",
     "text": [
      "mean accuracy of noisy labels:  0.5460000000000002\n",
      "mean lts measure of noisy labels:  0.7080000000000001\n"
     ]
    }
   ],
   "source": [
    "bt_df = pd.DataFrame(big_table)\n",
    "bt_df.columns = ['gamma', 'est_accuracy', 'est_lts', 'pp_lts']\n",
    "bt_df\n",
    "plt.plot(bt_df['gamma'], bt_df['pp_lts'], '-go', label = 'pp lts')\n",
    "plt.legend()\n",
    "plt.xlabel('$\\gamma$')\n",
    "plt.savefig('fig5.jpg', dpi = 600)\n",
    "plt.show()\n",
    "print('mean accuracy of noisy labels: ', np.mean(bt_df['est_accuracy']))\n",
    "print('mean lts measure of noisy labels: ', np.mean(bt_df['est_lts']))"
   ]
  },
  {
   "cell_type": "markdown",
   "metadata": {},
   "source": [
    "## $w$"
   ]
  },
  {
   "cell_type": "code",
   "execution_count": 18,
   "metadata": {},
   "outputs": [],
   "source": [
    "ws = [0, 0.1, 0.2, 0.3, 0.4, 0.5, 0.6, 0.7, 0.8, 0.9, 1, 1.5, 2]\n",
    "\n",
    "gamma = 0.75 # parameter of post-processing\n",
    "\n",
    "big_table = []\n",
    "\n",
    "for w in ws:\n",
    "    accuracy_table = []\n",
    "    measure_table_est = []\n",
    "    measure_table_pp = []\n",
    "    for loop_idx in range(1000):\n",
    "        is_correct = is_correct_array[loop_idx]\n",
    "        wrong_states = wrong_states_array[loop_idx]\n",
    "\n",
    "        df['iscorrect'] = is_correct\n",
    "        df.loc[df.iscorrect, 'est'] = df.correct\n",
    "        df.loc[df.iscorrect == False, 'est'] = wrong_states\n",
    "        \n",
    "        df['postproc'] = find_projection(df.est, gamma, fs)\n",
    "\n",
    "        lts_est_current = lts_measure(df.correct, df.est, fs, w, sigma, lam, zeta)\n",
    "        lts_pp_current = lts_measure(df.correct, df.postproc, fs, w, sigma, lam, zeta)\n",
    "\n",
    "        accuracy_table.append(round(np.mean(is_correct), 2))\n",
    "        measure_table_est.append(round(lts_est_current, 3))\n",
    "        measure_table_pp.append(round(lts_pp_current, 3))\n",
    "    \n",
    "    big_table.append([w, \n",
    "                      round(np.mean(accuracy_table), 3),\n",
    "                      round(np.mean(measure_table_est), 3),\n",
    "                      round(np.mean(measure_table_pp), 3)])"
   ]
  },
  {
   "cell_type": "code",
   "execution_count": 19,
   "metadata": {},
   "outputs": [
    {
     "data": {
      "image/png": "[encoded data removed]",
      "text/plain": [
       "<Figure size 432x288 with 1 Axes>"
      ]
     },
     "metadata": {
      "needs_background": "light"
     },
     "output_type": "display_data"
    },
    {
     "name": "stdout",
     "output_type": "stream",
     "text": [
      "mean accuracy of noisy labels:  0.5460000000000002\n",
      "mean lts measure of noisy labels:  0.697923076923077\n"
     ]
    }
   ],
   "source": [
    "bt_df = pd.DataFrame(big_table)\n",
    "bt_df.columns = ['w', 'est_accuracy', 'est_lts', 'pp_lts']\n",
    "bt_df\n",
    "plt.plot(bt_df['w'], bt_df['pp_lts'], '-go', label = 'pp lts')\n",
    "plt.legend()\n",
    "plt.xlabel('$w$')\n",
    "plt.savefig('fig6.jpg', dpi = 600)\n",
    "plt.show()\n",
    "print('mean accuracy of noisy labels: ', np.mean(bt_df['est_accuracy']))"
   ]
  },
  {
   "cell_type": "markdown",
   "metadata": {},
   "source": [
    "## $\\lambda$"
   ]
  },
  {
   "cell_type": "code",
   "execution_count": 52,
   "metadata": {},
   "outputs": [],
   "source": [
    "is_correct_array = []\n",
    "wrong_states_array = []\n",
    "mu_1 = 1000\n",
    "mu_2 = 600\n",
    "\n",
    "for loop_idx in range(1000):\n",
    "    is_correct, wrong_states = generate_state_seq(mu_1, mu_2)\n",
    "    \n",
    "    is_correct_array.append(is_correct)\n",
    "    wrong_states_array.append(wrong_states)"
   ]
  },
  {
   "cell_type": "code",
   "execution_count": 53,
   "metadata": {},
   "outputs": [],
   "source": [
    "w = 0.6\n",
    "lambdas = [0, 0.001, 0.005, 0.01, 0.05, 0.075, 0.1, 0.2, 0.3, 0.4, 0.5, 0.6, 0.7, 0.8, 0.9, 1]\n",
    "\n",
    "big_table = []\n",
    "\n",
    "for lam in lambdas:\n",
    "    accuracy_table = []\n",
    "    measure_table_est = []\n",
    "    measure_table_pp = []\n",
    "    for loop_idx in range(1000):\n",
    "        is_correct = is_correct_array[loop_idx]\n",
    "        wrong_states = wrong_states_array[loop_idx]\n",
    "\n",
    "        df['iscorrect'] = is_correct\n",
    "        df.loc[df.iscorrect, 'est'] = df.correct\n",
    "        df.loc[df.iscorrect == False, 'est'] = wrong_states\n",
    "        \n",
    "        df['postproc'] = find_projection(df.est, gamma, fs)\n",
    "\n",
    "        lts_est_current = lts_measure(df.correct, df.est, fs, w, sigma, lam, zeta)\n",
    "        lts_pp_current = lts_measure(df.correct, df.postproc, fs, w, sigma, lam, zeta)\n",
    "\n",
    "        accuracy_table.append(round(np.mean(is_correct), 2))\n",
    "        measure_table_est.append(round(lts_est_current, 3))\n",
    "        measure_table_pp.append(round(lts_pp_current, 3))\n",
    "    \n",
    "    big_table.append([lam, \n",
    "                      round(np.mean(accuracy_table), 3),\n",
    "                      round(np.mean(measure_table_est), 3),\n",
    "                      round(np.mean(measure_table_pp), 3)])"
   ]
  },
  {
   "cell_type": "code",
   "execution_count": 54,
   "metadata": {},
   "outputs": [
    {
     "data": {
      "image/png": "[encoded data removed]",
      "text/plain": [
       "<Figure size 432x288 with 1 Axes>"
      ]
     },
     "metadata": {
      "needs_background": "light"
     },
     "output_type": "display_data"
    },
    {
     "name": "stdout",
     "output_type": "stream",
     "text": [
      "mean accuracy of noisy labels:  0.6199999999999999\n"
     ]
    }
   ],
   "source": [
    "bt_df = pd.DataFrame(big_table)\n",
    "bt_df.columns = ['lambda', 'est_accuracy', 'est_lts', 'pp_lts']\n",
    "bt_df\n",
    "plt.plot(bt_df['lambda'], bt_df['pp_lts'], '-go', label = 'pp lts')\n",
    "plt.legend()\n",
    "plt.xlabel('$\\lambda$')\n",
    "plt.savefig('fig7.jpg', dpi = 600)\n",
    "plt.show()\n",
    "print('mean accuracy of noisy labels: ', np.mean(bt_df['est_accuracy']))"
   ]
  }
 ],
 "metadata": {
  "kernelspec": {
   "display_name": "Python 3",
   "language": "python",
   "name": "python3"
  },
  "language_info": {
   "codemirror_mode": {
    "name": "ipython",
    "version": 3
   },
   "file_extension": ".py",
   "mimetype": "text/x-python",
   "name": "python",
   "nbconvert_exporter": "python",
   "pygments_lexer": "ipython3",
   "version": "3.7.6"
  }
 },
 "nbformat": 4,
 "nbformat_minor": 4
}
